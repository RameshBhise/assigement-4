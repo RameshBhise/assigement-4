{
 "cells": [
  {
   "cell_type": "code",
   "execution_count": 1,
   "id": "c42699c6-80ff-42c0-8014-e77dad2bbeb5",
   "metadata": {},
   "outputs": [],
   "source": [
    "#assigement in oops \n"
   ]
  },
  {
   "cell_type": "code",
   "execution_count": null,
   "id": "30d9b2c0-bf1c-4f76-a643-e2089cc12643",
   "metadata": {},
   "outputs": [],
   "source": [
    "Que 1  class: a class describes the contents of the objects that belong to it: \n",
    "        it describes an aggregate of data fields (called instance variables), and defines the operations (called methods).\n",
    "        object: an object is an element (or instance) of a class; objects have the behaviors of their class.\n",
    "Que 2  These principles are called the four pillars of object-oriented programming (OOP). \n",
    "      These four pillars are Inheritance, Polymorphism, Encapsulation and Abstraction.\n",
    "Que 3 The examples above are classes and objects in their simplest form, and are not really useful in real life applications.\n",
    "\n",
    "     To understand the meaning of classes we have to understand the built-in _init_() function.\n",
    "\n",
    "      All classes have a function called _init_(), which is always executed when the class is being initiated.\n",
    "\n",
    "      Use the _init_() function to assign values to object properties, or other operations that are necessary\n",
    "       to do when the object is being created:\n",
    "Que 4  The self variable is used to represent the instance of the class which is often used in object-oriented programming. \n",
    "       It works as a reference to the object. Python uses the self parameter to refer to instance attributes and methods of the \n",
    "Que 5  inheritance is a mechanism in which one class acquires the property of another class. \n",
    "       For example, a child inherits the traits of his/her parents. With inheritance, we can reuse the fields and methods of the existing class. \n",
    "       Hence, inheritance facilitates Reusability and is an important concept of OOPs."
   ]
  }
 ],
 "metadata": {
  "kernelspec": {
   "display_name": "Python 3 (ipykernel)",
   "language": "python",
   "name": "python3"
  },
  "language_info": {
   "codemirror_mode": {
    "name": "ipython",
    "version": 3
   },
   "file_extension": ".py",
   "mimetype": "text/x-python",
   "name": "python",
   "nbconvert_exporter": "python",
   "pygments_lexer": "ipython3",
   "version": "3.10.8"
  }
 },
 "nbformat": 4,
 "nbformat_minor": 5
}
